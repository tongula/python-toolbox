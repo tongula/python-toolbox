{
 "cells": [
  {
   "cell_type": "code",
   "execution_count": 1,
   "metadata": {},
   "outputs": [],
   "source": [
    "import json"
   ]
  },
  {
   "cell_type": "code",
   "execution_count": 2,
   "metadata": {},
   "outputs": [
    {
     "name": "stdout",
     "output_type": "stream",
     "text": [
      "{\"Name\": \"Dictionary\", \"Value\": \"test\"}\n"
     ]
    }
   ],
   "source": [
    "dict_1 = {}\n",
    "dict_1['Name'] = 'Dictionary'\n",
    "dict_1['Value'] = 'test'\n",
    "r = dict_1\n",
    "result = json.dumps(r)\n",
    "print(result)\n",
    "#loaded_r = json.loads(r)\n",
    "#loaded_r['rating'] #Output 3.5\n",
    "#type(r) #Output str\n",
    "#type(loaded_r)\n",
    "f = open(\"dict_1.json\",\"w\")\n",
    "f.write(result)\n",
    "f.close()"
   ]
  },
  {
   "cell_type": "code",
   "execution_count": null,
   "metadata": {},
   "outputs": [],
   "source": []
  }
 ],
 "metadata": {
  "kernelspec": {
   "display_name": "Python 3",
   "language": "python",
   "name": "python3"
  },
  "language_info": {
   "codemirror_mode": {
    "name": "ipython",
    "version": 3
   },
   "file_extension": ".py",
   "mimetype": "text/x-python",
   "name": "python",
   "nbconvert_exporter": "python",
   "pygments_lexer": "ipython3",
   "version": "3.7.3"
  }
 },
 "nbformat": 4,
 "nbformat_minor": 2
}
