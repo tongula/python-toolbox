{
 "cells": [
  {
   "cell_type": "markdown",
   "metadata": {},
   "source": [
    "#https://leetcode.com/problems/guess-number-higher-or-lower-ii/\n",
    "Try to use recursive function"
   ]
  },
  {
   "cell_type": "code",
   "execution_count": null,
   "metadata": {},
   "outputs": [],
   "source": [
    "def getMoneyAmount(n):\n",
    "        \"\"\"\n",
    "        :type n: int\n",
    "        :rtype: int\n",
    "        \"\"\"\n",
    "        # 1->0 2->1 3->2 4->1+3 5->2+4 6->3+5 7->4+6\n",
    "        if n == 1:\n",
    "            return 0\n",
    "        elif n == 2:\n",
    "            return 1\n",
    "        else:\n",
    "            return getMoneyAmount((n-2))+(n-1)"
   ]
  },
  {
   "cell_type": "code",
   "execution_count": null,
   "metadata": {},
   "outputs": [],
   "source": [
    "getMoneyAmount(5)"
   ]
  },
  {
   "cell_type": "code",
   "execution_count": null,
   "metadata": {},
   "outputs": [],
   "source": [
    "def list_sum_recursive(input_list):\n",
    "    # Base case\n",
    "    if input_list == []:\n",
    "        return 0\n",
    "\n",
    "    # Recursive case\n",
    "    # Decompose the original problem into simpler instances of the same problem\n",
    "    # by making use of the fact that the input is a recursive data structure\n",
    "    # and can be deﬁned in terms of a smaller version of itself\n",
    "    else:\n",
    "        head = input_list[0]\n",
    "        smaller_list = input_list[1:]\n",
    "        return head + list_sum_recursive(smaller_list)"
   ]
  },
  {
   "cell_type": "code",
   "execution_count": null,
   "metadata": {},
   "outputs": [],
   "source": [
    "def getMoneyAmount(n):\n",
    "        \"\"\"\n",
    "        :type n: int\n",
    "        :rtype: int\n",
    "        \"\"\"\n",
    "        # 1->0 2->1 3->2 4->1+3 5->2+4 6->3+5 7->4+6 8->5+7\n",
    "        if n == 1:\n",
    "            return 0\n",
    "        elif n == 2:\n",
    "            return 1\n",
    "        elif n == 3:\n",
    "            return 2\n",
    "        elif n == 4:\n",
    "            return 2\n",
    "        else:\n",
    "            if getMoneyAmount(n-4)>(n-1):\n",
    "                return getMoneyAmount(n-4)+n-3\n",
    "            else: \n",
    "                return (n-1)+(n-3)"
   ]
  },
  {
   "cell_type": "code",
   "execution_count": null,
   "metadata": {},
   "outputs": [],
   "source": [
    "getMoneyAmount(7)"
   ]
  },
  {
   "cell_type": "code",
   "execution_count": 51,
   "metadata": {},
   "outputs": [],
   "source": [
    "def getMoneyAmount(n):\n",
    "        \"\"\"\n",
    "        :type n: int\n",
    "        :rtype: int\n",
    "        \"\"\"\n",
    "        # 1->0 2->1 3->2 4->1+3 5->2+4 6->3+5 7->4+6 8->5+7\n",
    "        if n == 1:\n",
    "            return 0\n",
    "        elif n == 2:\n",
    "            return 1\n",
    "        elif n == 3:\n",
    "            return 2\n",
    "        elif n == 4:\n",
    "            return 4\n",
    "        else:\n",
    "            return max(getMoneyAmount(n-4)+n-3, (n-1)+(n-3))"
   ]
  },
  {
   "cell_type": "code",
   "execution_count": 93,
   "metadata": {},
   "outputs": [
    {
     "name": "stdout",
     "output_type": "stream",
     "text": [
      "24\n"
     ]
    },
    {
     "data": {
      "text/plain": [
       "49"
      ]
     },
     "execution_count": 93,
     "metadata": {},
     "output_type": "execute_result"
    }
   ],
   "source": [
    "getMoneyAmount(20)"
   ]
  },
  {
   "cell_type": "code",
   "execution_count": 53,
   "metadata": {},
   "outputs": [],
   "source": [
    "def getMoneyAmount(n):\n",
    "    dp = [[0] * (n+1) for i in range(n+1)]\n",
    "    def solve(left, right):\n",
    "        if left<right and dp[left][right]==0:\n",
    "            dp[left][right]=min(max(solve(left,k-1),solve(k+1,right))+k for k in range(left, right))\n",
    "        return dp[left][right]\n",
    "    return solve(1,n)"
   ]
  },
  {
   "cell_type": "markdown",
   "metadata": {},
   "source": [
    "https://leetcode.com/problems/guess-number-higher-or-lower-ii/discuss/84769/Two-Python-solutions"
   ]
  },
  {
   "cell_type": "markdown",
   "metadata": {},
   "source": [
    "bottom up"
   ]
  },
  {
   "cell_type": "code",
   "execution_count": 113,
   "metadata": {},
   "outputs": [],
   "source": [
    "def getMoneyAmount(n):\n",
    "    need = [[0] * (n+1) for _ in range(n+1)]\n",
    "    for lo in range(n, 0, -1):\n",
    "        for hi in range(lo+1, n+1):\n",
    "            need[lo][hi] = min(x + max(need[lo][x-1], need[x+1][hi])\n",
    "                               for x in range(lo, hi))\n",
    "    return need[1][n]"
   ]
  },
  {
   "cell_type": "code",
   "execution_count": 114,
   "metadata": {},
   "outputs": [
    {
     "name": "stdout",
     "output_type": "stream",
     "text": [
      "36\n"
     ]
    },
    {
     "data": {
      "text/plain": [
       "49"
      ]
     },
     "execution_count": 114,
     "metadata": {},
     "output_type": "execute_result"
    }
   ],
   "source": [
    "getMoneyAmount(20)"
   ]
  },
  {
   "cell_type": "markdown",
   "metadata": {},
   "source": [
    "1:1+max(need[2][20])=1+49\n",
    "2:2+max(need[1][1],need[3][20])=2+49\n",
    "3:3+max(need[1][2],need[4][20])=3+max(1,49)\n",
    "4:4+max(need[1][3],need[5][20])=4+max(2,49)\n",
    "5:5+max(need[1][4],need[6][20])=5+max(4,49)\n",
    "6:6+max(need[1][5],need[7][20])=6+max(6,49)\n",
    "7:7+max(need[1][6],need[8][20])=7+max(8,49)\n",
    "8:8+max(need[1][7],need[9][20])=8+max(10,49)\n",
    "9:9+max(need[1][8],need[10][20])=9+max(12,45)\n",
    "10:10+max(need[1][9],need[11][20])=10+max(14,45)=\n",
    "11:11+max(need[1][10],need[12][20])=11+max(16,45)\n",
    "12:12+max(need[1][11],need[13][20])=12+max(18,45)\n",
    "13:13+max(need[1][12],need[14][20])=13+max(21,36)=49\n",
    "14:14+max(need[1][13],need[15][20])=14+max(24,36)=50\n",
    "15:15+max(need[1][14],need[16][20])=15+max(27,36)\n",
    "16:16+max(need[1][15],need[17][20])=16+max(30,36)\n",
    "17:17+max(need[1][16],need[18][20])=17+max(34,19)\n",
    "18:18+max(need[1][17],need[19][20])=18+max(38,19)\n",
    "19:19+max(need[1][18],need[20][20])=19+max(42,0)=61"
   ]
  },
  {
   "cell_type": "markdown",
   "metadata": {},
   "source": [
    "need[14][20]\n",
    "14:14+max(0,need[15][20])=14+max(0,36)\n",
    "15:15+max(need[14][14],need[16][20])=15+max(0,36)\n",
    "16:16+max(need[14][15],need[17][20])=16+max(14,36)\n",
    "17:17+max(need[14][16],need[18][20])=17+max(15,19)=17+19\n",
    "18:18+max(need[14][17],need[19][20])=18+max(30,19)\n",
    "19:19+max(need[14][18],need[20][20])=19+max(32,0)"
   ]
  },
  {
   "cell_type": "code",
   "execution_count": 55,
   "metadata": {},
   "outputs": [
    {
     "data": {
      "text/plain": [
       "[[0, 0, 0, 0, 0, 0, 0, 0, 0, 0, 0, 0, 0, 0, 0, 0, 0, 0, 0, 0, 0],\n",
       " [0, 0, 0, 0, 0, 0, 0, 0, 0, 0, 0, 0, 0, 0, 0, 0, 0, 0, 0, 0, 0],\n",
       " [0, 0, 0, 0, 0, 0, 0, 0, 0, 0, 0, 0, 0, 0, 0, 0, 0, 0, 0, 0, 0],\n",
       " [0, 0, 0, 0, 0, 0, 0, 0, 0, 0, 0, 0, 0, 0, 0, 0, 0, 0, 0, 0, 0],\n",
       " [0, 0, 0, 0, 0, 0, 0, 0, 0, 0, 0, 0, 0, 0, 0, 0, 0, 0, 0, 0, 0],\n",
       " [0, 0, 0, 0, 0, 0, 0, 0, 0, 0, 0, 0, 0, 0, 0, 0, 0, 0, 0, 0, 0],\n",
       " [0, 0, 0, 0, 0, 0, 0, 0, 0, 0, 0, 0, 0, 0, 0, 0, 0, 0, 0, 0, 0],\n",
       " [0, 0, 0, 0, 0, 0, 0, 0, 0, 0, 0, 0, 0, 0, 0, 0, 0, 0, 0, 0, 0],\n",
       " [0, 0, 0, 0, 0, 0, 0, 0, 0, 0, 0, 0, 0, 0, 0, 0, 0, 0, 0, 0, 0],\n",
       " [0, 0, 0, 0, 0, 0, 0, 0, 0, 0, 0, 0, 0, 0, 0, 0, 0, 0, 0, 0, 0],\n",
       " [0, 0, 0, 0, 0, 0, 0, 0, 0, 0, 0, 0, 0, 0, 0, 0, 0, 0, 0, 0, 0],\n",
       " [0, 0, 0, 0, 0, 0, 0, 0, 0, 0, 0, 0, 0, 0, 0, 0, 0, 0, 0, 0, 0],\n",
       " [0, 0, 0, 0, 0, 0, 0, 0, 0, 0, 0, 0, 0, 0, 0, 0, 0, 0, 0, 0, 0],\n",
       " [0, 0, 0, 0, 0, 0, 0, 0, 0, 0, 0, 0, 0, 0, 0, 0, 0, 0, 0, 0, 0],\n",
       " [0, 0, 0, 0, 0, 0, 0, 0, 0, 0, 0, 0, 0, 0, 0, 0, 0, 0, 0, 0, 0],\n",
       " [0, 0, 0, 0, 0, 0, 0, 0, 0, 0, 0, 0, 0, 0, 0, 0, 0, 0, 0, 0, 0],\n",
       " [0, 0, 0, 0, 0, 0, 0, 0, 0, 0, 0, 0, 0, 0, 0, 0, 0, 0, 0, 0, 0],\n",
       " [0, 0, 0, 0, 0, 0, 0, 0, 0, 0, 0, 0, 0, 0, 0, 0, 0, 0, 0, 0, 0],\n",
       " [0, 0, 0, 0, 0, 0, 0, 0, 0, 0, 0, 0, 0, 0, 0, 0, 0, 0, 0, 0, 0],\n",
       " [0, 0, 0, 0, 0, 0, 0, 0, 0, 0, 0, 0, 0, 0, 0, 0, 0, 0, 0, 0, 0],\n",
       " [0, 0, 0, 0, 0, 0, 0, 0, 0, 0, 0, 0, 0, 0, 0, 0, 0, 0, 0, 0, 0]]"
      ]
     },
     "execution_count": 55,
     "metadata": {},
     "output_type": "execute_result"
    }
   ],
   "source": [
    "A =need = [[0] * (20+1) for _ in range(20+1)]\n",
    "A"
   ]
  },
  {
   "cell_type": "markdown",
   "metadata": {},
   "source": [
    "top down"
   ]
  },
  {
   "cell_type": "code",
   "execution_count": 119,
   "metadata": {},
   "outputs": [
    {
     "ename": "SyntaxError",
     "evalue": "invalid syntax (<ipython-input-119-95544aaef599>, line 4)",
     "output_type": "error",
     "traceback": [
      "\u001b[1;36m  File \u001b[1;32m\"<ipython-input-119-95544aaef599>\"\u001b[1;36m, line \u001b[1;32m4\u001b[0m\n\u001b[1;33m    def __missing__(self, (lo, hi)):\u001b[0m\n\u001b[1;37m                          ^\u001b[0m\n\u001b[1;31mSyntaxError\u001b[0m\u001b[1;31m:\u001b[0m invalid syntax\n"
     ]
    }
   ],
   "source": [
    "class Solution(object):\n",
    "    def getMoneyAmount(self, n):\n",
    "        class Need(dict):\n",
    "            def __missing__(self, (lo, hi)):\n",
    "                if lo >= hi:\n",
    "                    return 0\n",
    "                ret = self[lo, hi] = min(x + max(self[lo, x-1], self[x+1, hi]) for x in range(lo, hi))\n",
    "                return ret\n",
    "        return Need()[1, n]\n"
   ]
  },
  {
   "cell_type": "code",
   "execution_count": 15,
   "metadata": {},
   "outputs": [
    {
     "data": {
      "text/plain": [
       "34"
      ]
     },
     "execution_count": 15,
     "metadata": {},
     "output_type": "execute_result"
    }
   ],
   "source": [
    "a=Solution()\n",
    "a.getMoneyAmount(8)"
   ]
  },
  {
   "cell_type": "code",
   "execution_count": 14,
   "metadata": {},
   "outputs": [],
   "source": [
    "class Solution(object):\n",
    "\n",
    "    def getMoneyAmount(self,n):\n",
    "        \"\"\"\n",
    "        :type n: int\n",
    "        :rtype: int\n",
    "        \"\"\"\n",
    "        # 1->0 2->1 3->2 4->1+3 5->2+4 6->3+5 7->4+6 8->5+7\n",
    "        if n == 1:\n",
    "            return 0\n",
    "        elif n == 2:\n",
    "            return 1\n",
    "        elif n == 3:\n",
    "            return 2\n",
    "        elif n == 4:\n",
    "            return 4\n",
    "        else:\n",
    "            if self.getMoneyAmount(n-4)>(n-1):\n",
    "                return self.getMoneyAmount(n-4)+n-3\n",
    "            else: \n",
    "                return (n-1)+(n-3)"
   ]
  },
  {
   "cell_type": "code",
   "execution_count": null,
   "metadata": {},
   "outputs": [],
   "source": [
    "10+15+17+19"
   ]
  },
  {
   "cell_type": "code",
   "execution_count": null,
   "metadata": {},
   "outputs": [],
   "source": [
    "8+15+17+19"
   ]
  }
 ],
 "metadata": {
  "kernelspec": {
   "display_name": "Python 3",
   "language": "python",
   "name": "python3"
  },
  "language_info": {
   "codemirror_mode": {
    "name": "ipython",
    "version": 3
   },
   "file_extension": ".py",
   "mimetype": "text/x-python",
   "name": "python",
   "nbconvert_exporter": "python",
   "pygments_lexer": "ipython3",
   "version": "3.7.3"
  }
 },
 "nbformat": 4,
 "nbformat_minor": 2
}
