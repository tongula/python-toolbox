{
 "cells": [
  {
   "cell_type": "code",
   "execution_count": 4,
   "metadata": {},
   "outputs": [],
   "source": [
    "#function for getting a subset of a dictionary\n",
    "def chunks(dictionary, key_array):\n",
    "    it = iter(dictionary)\n",
    "    return dict([(x,y) for x,y in dictionary.items() if x in key_array])\n"
   ]
  },
  {
   "cell_type": "code",
   "execution_count": 5,
   "metadata": {},
   "outputs": [
    {
     "data": {
      "text/plain": [
       "{'one': 1, 'three': 3}"
      ]
     },
     "execution_count": 5,
     "metadata": {},
     "output_type": "execute_result"
    }
   ],
   "source": [
    "a={'one':1,'two':2,'three':3,'four':4,'five':5}\n",
    "\n",
    "#import pdb;pdb.set_trace()\n",
    "chunk_1 = chunks(a,['one','three'])\n",
    "chunk_2 = chunks(a,['two','four','five'])\n",
    "\n",
    "#print(\"here\")\n",
    "chunk_1"
   ]
  },
  {
   "cell_type": "code",
   "execution_count": null,
   "metadata": {},
   "outputs": [],
   "source": []
  }
 ],
 "metadata": {
  "kernelspec": {
   "display_name": "Python 3",
   "language": "python",
   "name": "python3"
  },
  "language_info": {
   "codemirror_mode": {
    "name": "ipython",
    "version": 3
   },
   "file_extension": ".py",
   "mimetype": "text/x-python",
   "name": "python",
   "nbconvert_exporter": "python",
   "pygments_lexer": "ipython3",
   "version": "3.7.3"
  }
 },
 "nbformat": 4,
 "nbformat_minor": 2
}
